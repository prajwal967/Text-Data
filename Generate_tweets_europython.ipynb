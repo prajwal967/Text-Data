{
 "cells": [
  {
   "cell_type": "code",
   "execution_count": 1,
   "metadata": {
    "collapsed": false
   },
   "outputs": [
    {
     "name": "stderr",
     "output_type": "stream",
     "text": [
      "Using Theano backend.\n"
     ]
    }
   ],
   "source": [
    "from __future__ import print_function\n",
    "from keras.models import Sequential\n",
    "from keras.layers import Dense, Activation, Dropout\n",
    "from keras.layers import LSTM\n",
    "from keras.optimizers import RMSprop\n",
    "from keras.utils.data_utils import get_file\n",
    "import numpy as np\n",
    "import random\n",
    "import sys"
   ]
  },
  {
   "cell_type": "code",
   "execution_count": 2,
   "metadata": {
    "collapsed": true
   },
   "outputs": [],
   "source": [
    "import re\n",
    "\n",
    "#The following is done to tokenize the tweets into its appropriate form\n",
    "#In particular, we try to capture some emoticons, HTML tags, Twitter @usernames (@-mentions), Twitter #hashtags, \n",
    "#URLs, numbers, words with and without dashes and apostrophes\n",
    "\n",
    "#Source : https://marcobonzanini.com/2015/03/09/mining-twitter-data-with-python-part-2/\n",
    "emoticons_str = r\"\"\"\n",
    "    (?:\n",
    "        [:=;] # Eyes\n",
    "        [oO\\-]? # Nose (optional)\n",
    "        [D\\)\\]\\(\\]/\\\\OpP] # Mouth\n",
    "    )\"\"\"\n",
    " \n",
    "regex_str = [\n",
    "    emoticons_str,\n",
    "    r'<[^>]+>', # HTML tags\n",
    "    r'(?:@[\\w_]+)', # @-mentions\n",
    "    r\"(?:\\#+[\\w_]+[\\w\\'_\\-]*[\\w_]+)\", # hash-tags\n",
    "    r'http[s]?://(?:[a-z]|[0-9]|[$-_@.&+]|[!*\\(\\),]|(?:%[0-9a-f][0-9a-f]))+', # URLs\n",
    " \n",
    "    r'(?:(?:\\d+,?)+(?:\\.?\\d+)?)', # numbers\n",
    "    r\"(?:[a-z][a-z'\\-_]+[a-z])\", # words with - and '\n",
    "    r'(?:[\\w_]+)', # other words\n",
    "    r'(?:\\S)' # anything else\n",
    "]\n",
    "    \n",
    "tokens_re = re.compile(r'('+'|'.join(regex_str)+')', re.VERBOSE | re.IGNORECASE)\n",
    "emoticon_re = re.compile(r'^'+emoticons_str+'$', re.VERBOSE | re.IGNORECASE)\n",
    " \n",
    "def tokenize(s):\n",
    "    return tokens_re.findall(s)\n",
    " \n",
    "def preprocess(s, lowercase=False):\n",
    "    tokens = tokenize(s)\n",
    "    if lowercase:\n",
    "        tokens = [token if emoticon_re.search(token) else token.lower() for token in tokens]\n",
    "    return tokens"
   ]
  },
  {
   "cell_type": "code",
   "execution_count": 3,
   "metadata": {
    "collapsed": true
   },
   "outputs": [],
   "source": [
    "#Converting JSON format to a string containing all the tweets, which is then used to train and generate text\n",
    "\n",
    "import json\n",
    "complete_tweets = \"\"\n",
    "text = ''\n",
    "with open('euro_python.json', 'r') as f:\n",
    "    for line in f:\n",
    "        \n",
    "        tweet = json.loads(line) # load it as Python dict\n",
    "        tokens = preprocess(tweet['text'])\n",
    "        \n",
    "        for index,element in enumerate(tokens):\n",
    "            \n",
    "            #Removing '#' \n",
    "            if('#' in element):\n",
    "                \n",
    "                del tokens[index]\n",
    "                text = text + \"\"\n",
    "                continue\n",
    "            \n",
    "            \n",
    "            #Removing the 'RT' tag\n",
    "            elif('RT' in element):\n",
    "                \n",
    "                del tokens[index]\n",
    "                text = text + \"\"\n",
    "                continue\n",
    "            \n",
    "            #This character usually follows the 'RT' tag, so we remove it\n",
    "            elif(':' in element):\n",
    "                \n",
    "                del tokens[index]\n",
    "                text = text + \"\"\n",
    "                continue\n",
    "                \n",
    "            text = text + \" \" + tokens[index]\n",
    "        text = text + '\\n'"
   ]
  },
  {
   "cell_type": "code",
   "execution_count": 4,
   "metadata": {
    "collapsed": false
   },
   "outputs": [
    {
     "name": "stdout",
     "output_type": "stream",
     "text": [
      "total chars: 96\n"
     ]
    }
   ],
   "source": [
    "chars = sorted(list(set(text)))\n",
    "print('total chars:', len(chars))\n",
    "char_indices = dict((c, i) for i, c in enumerate(chars))\n",
    "indices_char = dict((i, c) for i, c in enumerate(chars))"
   ]
  },
  {
   "cell_type": "code",
   "execution_count": 5,
   "metadata": {
    "collapsed": false
   },
   "outputs": [
    {
     "name": "stdout",
     "output_type": "stream",
     "text": [
      "nb sequences: 12755\n"
     ]
    }
   ],
   "source": [
    "# cut the text in semi-redundant sequences of maxlen characters\n",
    "maxlen = 40\n",
    "step = 1\n",
    "sentences = []\n",
    "next_chars = []\n",
    "for i in range(0, len(text) - maxlen, step):\n",
    "    sentences.append(text[i: i + maxlen])\n",
    "    next_chars.append(text[i + maxlen])\n",
    "print('nb sequences:', len(sentences))"
   ]
  },
  {
   "cell_type": "code",
   "execution_count": 6,
   "metadata": {
    "collapsed": false
   },
   "outputs": [
    {
     "name": "stdout",
     "output_type": "stream",
     "text": [
      "Vectorization...\n"
     ]
    }
   ],
   "source": [
    "print('Vectorization...')\n",
    "X = np.zeros((len(sentences), maxlen, len(chars)), dtype=np.bool)\n",
    "y = np.zeros((len(sentences), len(chars)), dtype=np.bool)\n",
    "for i, sentence in enumerate(sentences):\n",
    "    for t, char in enumerate(sentence):\n",
    "        X[i, t, char_indices[char]] = 1\n",
    "    y[i, char_indices[next_chars[i]]] = 1"
   ]
  },
  {
   "cell_type": "code",
   "execution_count": 7,
   "metadata": {
    "collapsed": false
   },
   "outputs": [
    {
     "name": "stdout",
     "output_type": "stream",
     "text": [
      "Build model...\n"
     ]
    }
   ],
   "source": [
    "# build the model: 2 stacked LSTM\n",
    "print('Build model...')\n",
    "model = Sequential()\n",
    "model.add(LSTM(128, input_shape=(maxlen, len(chars))))\n",
    "model.add(Dense(len(chars)))\n",
    "model.add(Activation('softmax'))\n",
    "\n",
    "optimizer = RMSprop(lr=0.01)\n",
    "model.compile(loss='categorical_crossentropy', optimizer=optimizer)"
   ]
  },
  {
   "cell_type": "code",
   "execution_count": 8,
   "metadata": {
    "collapsed": true
   },
   "outputs": [],
   "source": [
    "def sample(preds, temperature=1.0):\n",
    "    # helper function to sample an index from a probability array\n",
    "    preds = np.asarray(preds).astype('float64')\n",
    "    preds = np.log(preds) / temperature\n",
    "    exp_preds = np.exp(preds)\n",
    "    preds = exp_preds / np.sum(exp_preds)\n",
    "    probas = np.random.multinomial(1, preds, 1)\n",
    "    return np.argmax(probas)"
   ]
  },
  {
   "cell_type": "code",
   "execution_count": 9,
   "metadata": {
    "collapsed": false,
    "scrolled": false
   },
   "outputs": [
    {
     "name": "stdout",
     "output_type": "stream",
     "text": [
      "\n",
      "--------------------------------------------------\n",
      "Iteration 1\n",
      "Epoch 1/2\n",
      "12755/12755 [==============================] - 54s - loss: 3.2208    \n",
      "Epoch 2/2\n",
      "12755/12755 [==============================] - 58s - loss: 2.8223    \n",
      "\n",
      "----- diversity: 0.2\n",
      "----- Generating with seed: \" Always an adventure . We laugh , we cry\"\n",
      "\n",
      "Generated\n",
      " Always an adventure . We laugh , we cry an in in an an an a\n",
      "\n",
      "----- diversity: 0.5\n",
      "----- Generating with seed: \" Always an adventure . We laugh , we cry\"\n",
      "\n",
      "Generated\n",
      " Always an adventure . We laugh , we cry apo aning ator ang \n",
      "\n",
      "----- diversity: 1.0\n",
      "----- Generating with seed: \" Always an adventure . We laugh , we cry\"\n",
      "\n",
      "Generated\n",
      " Always an adventure . We laugh , we cry ?ou ? f ovopv 🙌ks @\n",
      "\n",
      "----- diversity: 1.2\n",
      "----- Generating with seed: \" Always an adventure . We laugh , we cry\"\n",
      "\n",
      "Generated\n",
      " Always an adventure . We laugh , we cry y.asd on 😊s opAdiny\n",
      "\n",
      "--------------------------------------------------\n",
      "Iteration 2\n",
      "Epoch 1/2\n",
      "12755/12755 [==============================] - 69s - loss: 2.6069    \n",
      "Epoch 2/2\n",
      "12755/12755 [==============================] - 59s - loss: 2.4362    \n",
      "\n",
      "----- diversity: 0.2\n",
      "----- Generating with seed: \"e it's less a \" hire-and-fire \" mentalit\"\n",
      "\n",
      "Generated\n",
      "e it's less a \" hire-and-fire \" mentality for cede the talk \n",
      "\n",
      "----- diversity: 0.5\n",
      "----- Generating with seed: \"e it's less a \" hire-and-fire \" mentalit\"\n",
      "\n",
      "Generated\n",
      "e it's less a \" hire-and-fire \" mentalititing . . .\n",
      "- at apl\n",
      "\n",
      "----- diversity: 1.0\n",
      "----- Generating with seed: \"e it's less a \" hire-and-fire \" mentalit\"\n",
      "\n",
      "Generated\n",
      "e it's less a \" hire-and-fire \" mentalitaplython @e 5ustions\n",
      "\n",
      "----- diversity: 1.2\n",
      "----- Generating with seed: \"e it's less a \" hire-and-fire \" mentalit\"\n",
      "\n",
      "Generated\n",
      "e it's less a \" hire-and-fire \" mentalitaten\" ; Fondwing atf\n",
      "\n",
      "--------------------------------------------------\n",
      "Iteration 3\n",
      "Epoch 1/2\n",
      "12755/12755 [==============================] - 69s - loss: 2.2668    \n",
      "Epoch 2/2\n",
      "12755/12755 [==============================] - 59s - loss: 2.0938    \n",
      "\n",
      "----- diversity: 0.2\n",
      "----- Generating with seed: \" Conduct is available open source\n",
      " compa\"\n",
      "\n",
      "Generated\n",
      " Conduct is available open source\n",
      " compation . . . . . . . .\n",
      "\n",
      "----- diversity: 0.5\n",
      "----- Generating with seed: \" Conduct is available open source\n",
      " compa\"\n",
      "\n",
      "Generated\n",
      " Conduct is available open source\n",
      " compat ou mo the talk at \n",
      "\n",
      "----- diversity: 1.0\n",
      "----- Generating with seed: \" Conduct is available open source\n",
      " compa\"\n",
      "\n",
      "Generated\n",
      " Conduct is available open source\n",
      " compa an madsuure in sere\n",
      "\n",
      "----- diversity: 1.2\n",
      "----- Generating with seed: \" Conduct is available open source\n",
      " compa\"\n",
      "\n",
      "Generated\n",
      " Conduct is available open source\n",
      " compante of Von't Iwthtn'\n",
      "\n",
      "--------------------------------------------------\n",
      "Iteration 4\n",
      "Epoch 1/2\n",
      "12755/12755 [==============================] - 63s - loss: 1.9174    \n",
      "Epoch 2/2\n",
      "12755/12755 [==============================] - 60s - loss: 1.7521    \n",
      "\n",
      "----- diversity: 0.2\n",
      "----- Generating with seed: \"ops ' world by @godlike64 kicked off 🙌 🙌\"\n",
      "\n",
      "Generated\n",
      "ops ' world by @godlike64 kicked off 🙌 🙌\n",
      " Candicu stap on of\n",
      "\n",
      "----- diversity: 0.5\n",
      "----- Generating with seed: \"ops ' world by @godlike64 kicked off 🙌 🙌\"\n",
      "\n",
      "Generated\n",
      "ops ' world by @godlike64 kicked off 🙌 🙌\n",
      " Cand I y @chings f\n",
      "\n",
      "----- diversity: 1.0\n",
      "----- Generating with seed: \"ops ' world by @godlike64 kicked off 🙌 🙌\"\n",
      "\n",
      "Generated\n",
      "ops ' world by @godlike64 kicked off 🙌 🙌\n",
      " deponging talks th\n",
      "\n",
      "----- diversity: 1.2\n",
      "----- Generating with seed: \"ops ' world by @godlike64 kicked off 🙌 🙌\"\n",
      "\n",
      "Generated\n",
      "ops ' world by @godlike64 kicked off 🙌 🙌\n",
      "5Eenlige onferseef \n"
     ]
    }
   ],
   "source": [
    "# train the model, output generated text after each iteration\n",
    "for iteration in range(1, 5):\n",
    "    print()\n",
    "    print('-' * 50)\n",
    "    print('Iteration', iteration)\n",
    "    model.fit(X, y, batch_size=128, nb_epoch=2)\n",
    "\n",
    "    start_index = random.randint(0, len(text) - maxlen - 1)\n",
    "\n",
    "    for diversity in [0.2, 0.5, 1.0, 1.2]:\n",
    "        print()\n",
    "        print('----- diversity:', diversity)\n",
    "\n",
    "        generated = ''\n",
    "        sentence = text[start_index: start_index + maxlen]\n",
    "        generated += sentence\n",
    "        print('----- Generating with seed: \"' + sentence + '\"')\n",
    "        print('\\nGenerated')\n",
    "        sys.stdout.write(generated)\n",
    "\n",
    "        for i in range(20):\n",
    "            x = np.zeros((1, maxlen, len(chars)))\n",
    "            for t, char in enumerate(sentence):\n",
    "                x[0, t, char_indices[char]] = 1.\n",
    "\n",
    "            preds = model.predict(x, verbose=0)[0]\n",
    "            next_index = sample(preds, diversity)\n",
    "            next_char = indices_char[next_index]\n",
    "\n",
    "            generated += next_char\n",
    "            sentence = sentence[1:] + next_char\n",
    "\n",
    "            sys.stdout.write(next_char)\n",
    "            sys.stdout.flush()\n",
    "        print()"
   ]
  },
  {
   "cell_type": "code",
   "execution_count": null,
   "metadata": {
    "collapsed": true
   },
   "outputs": [],
   "source": []
  },
  {
   "cell_type": "code",
   "execution_count": null,
   "metadata": {
    "collapsed": true
   },
   "outputs": [],
   "source": []
  }
 ],
 "metadata": {
  "kernelspec": {
   "display_name": "Python 3",
   "language": "python",
   "name": "python3"
  },
  "language_info": {
   "codemirror_mode": {
    "name": "ipython",
    "version": 3
   },
   "file_extension": ".py",
   "mimetype": "text/x-python",
   "name": "python",
   "nbconvert_exporter": "python",
   "pygments_lexer": "ipython3",
   "version": "3.5.1"
  }
 },
 "nbformat": 4,
 "nbformat_minor": 0
}
