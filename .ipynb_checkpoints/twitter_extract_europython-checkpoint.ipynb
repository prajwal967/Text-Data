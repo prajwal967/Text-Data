{
 "cells": [
  {
   "cell_type": "code",
   "execution_count": 1,
   "metadata": {
    "collapsed": true
   },
   "outputs": [],
   "source": [
    "import tweepy\n",
    "from tweepy import OAuthHandler\n",
    "from tweepy import Stream\n",
    "from tweepy.streaming import StreamListener\n",
    "from configparser import ConfigParser"
   ]
  },
  {
   "cell_type": "code",
   "execution_count": 2,
   "metadata": {
    "collapsed": true
   },
   "outputs": [],
   "source": [
    "class Authenticate():\n",
    "    \n",
    "    def __init__(self, consumer_key, consumer_secret, access_token, access_secret):\n",
    "        self.auth = OAuthHandler(consumer_key, consumer_secret)\n",
    "        self.auth.set_access_token(access_token, access_secret)\n",
    "        self.api = tweepy.API(self.auth)"
   ]
  },
  {
   "cell_type": "code",
   "execution_count": 3,
   "metadata": {
    "collapsed": true
   },
   "outputs": [],
   "source": [
    "class TwitterListener(StreamListener):\n",
    "    \n",
    "    def __init__(self, filename):\n",
    "        self.filename = filename\n",
    "        \n",
    "    def on_data(self, data):\n",
    "        try:\n",
    "            with open(self.filename, 'a') as file:\n",
    "                file.write(data)\n",
    "                return True\n",
    "        except BaseException as e:\n",
    "            print(\"Error on_data: %s\" % str(e))\n",
    "        return True\n",
    " \n",
    "    def on_error(self, status):\n",
    "        print(status)\n",
    "        return True"
   ]
  },
  {
   "cell_type": "code",
   "execution_count": null,
   "metadata": {},
   "outputs": [],
   "source": [
    "if __name__ == \"__main__\":\n",
    "    \n",
    "    conf = ConfigParser()\n",
    "    conf.read(\"config/keys.ini\")\n",
    "\n",
    "    consumer_key = conf.get('keys', 'consumer_key')\n",
    "    consumer_secret = conf.get('keys', 'consumer_secret')\n",
    "    access_token = conf.get('keys', 'access_token')\n",
    "    access_secret = conf.get('keys', 'access_secret')\n",
    "    \n",
    "    authenticate = Authenticate(consumer_key, consumer_secret, access_token, access_secret)\n",
    "    twitter_listener = TwitterListener('euro_python.json')\n",
    "    \n",
    "    twitter_stream = Stream(authenticate.auth, twitter_listener)\n",
    "    #Looking for the tweets to scrape, will scrape tweets with '#europython','#EuroPython','#ep2016','#EP2016'\n",
    "    twitter_stream.filter(track=['#europython','#EuroPython'])"
   ]
  }
 ],
 "metadata": {
  "kernelspec": {
   "display_name": "Python 3",
   "language": "python",
   "name": "python3"
  },
  "language_info": {
   "codemirror_mode": {
    "name": "ipython",
    "version": 3
   },
   "file_extension": ".py",
   "mimetype": "text/x-python",
   "name": "python",
   "nbconvert_exporter": "python",
   "pygments_lexer": "ipython3",
   "version": "3.6.3"
  }
 },
 "nbformat": 4,
 "nbformat_minor": 1
}
