{
 "cells": [
  {
   "cell_type": "code",
   "execution_count": 11,
   "metadata": {},
   "outputs": [],
   "source": [
    "from __future__ import print_function\n",
    "from keras.models import Sequential\n",
    "from keras.layers import Dense, Activation, Dropout\n",
    "from keras.layers import LSTM\n",
    "from keras.optimizers import RMSprop\n",
    "from keras.utils.data_utils import get_file\n",
    "import numpy as np\n",
    "import random\n",
    "import sys\n",
    "import re"
   ]
  },
  {
   "cell_type": "code",
   "execution_count": 12,
   "metadata": {
    "collapsed": true
   },
   "outputs": [],
   "source": [
    "\n",
    "#The following is done to tokenize the tweets into its appropriate form\n",
    "#In particular, we try to capture some emoticons, HTML tags, Twitter @usernames (@-mentions), Twitter #hashtags, \n",
    "#URLs, numbers, words with and without dashes and apostrophes\n",
    "\n",
    "#Source : https://marcobonzanini.com/2015/03/09/mining-twitter-data-with-python-part-2/\n",
    "emoticons_str = r\"\"\"\n",
    "    (?:\n",
    "        [:=;] # Eyes\n",
    "        [oO\\-]? # Nose (optional)\n",
    "        [D\\)\\]\\(\\]/\\\\OpP] # Mouth\n",
    "    )\"\"\"\n",
    " \n",
    "regex_str = [\n",
    "    emoticons_str,\n",
    "    r'<[^>]+>', # HTML tags\n",
    "    r'(?:@[\\w_]+)', # @-mentions\n",
    "    r\"(?:\\#+[\\w_]+[\\w\\'_\\-]*[\\w_]+)\", # hash-tags\n",
    "    r'http[s]?://(?:[a-z]|[0-9]|[$-_@.&+]|[!*\\(\\),]|(?:%[0-9a-f][0-9a-f]))+', # URLs\n",
    " \n",
    "    r'(?:(?:\\d+,?)+(?:\\.?\\d+)?)', # numbers\n",
    "    r\"(?:[a-z][a-z'\\-_]+[a-z])\", # words with - and '\n",
    "    r'(?:[\\w_]+)', # other words\n",
    "    r'(?:\\S)' # anything else\n",
    "]\n",
    "    \n",
    "tokens_re = re.compile(r'('+'|'.join(regex_str)+')', re.VERBOSE | re.IGNORECASE)\n",
    "emoticon_re = re.compile(r'^'+emoticons_str+'$', re.VERBOSE | re.IGNORECASE)\n",
    " \n",
    "def tokenize(s):\n",
    "    return tokens_re.findall(s)\n",
    " \n",
    "def preprocess(s, lowercase=False):\n",
    "    tokens = tokenize(s)\n",
    "    if lowercase:\n",
    "        tokens = [token if emoticon_re.search(token) else token.lower() for token in tokens]\n",
    "    return tokens"
   ]
  },
  {
   "cell_type": "code",
   "execution_count": 13,
   "metadata": {
    "collapsed": true
   },
   "outputs": [],
   "source": [
    "#Converting JSON format to a string containing all the tweets, which is then used to train and generate text\n",
    "\n",
    "import json\n",
    "complete_tweets = \"\"\n",
    "text = ''\n",
    "with open('euro_python.json', 'r') as f:\n",
    "    for line in f:\n",
    "        \n",
    "        tweet = json.loads(line) # load it as Python dict\n",
    "        tokens = preprocess(tweet['text'])\n",
    "        \n",
    "        for index,element in enumerate(tokens):\n",
    "            \n",
    "            #Removing '#' \n",
    "            if('#' in element):\n",
    "                \n",
    "                del tokens[index]\n",
    "                text = text + \"\"\n",
    "                continue\n",
    "            \n",
    "            \n",
    "            #Removing the 'RT' tag\n",
    "            elif('RT' in element):\n",
    "                \n",
    "                del tokens[index]\n",
    "                text = text + \"\"\n",
    "                continue\n",
    "            \n",
    "            #This character usually follows the 'RT' tag, so we remove it\n",
    "            elif(':' in element):\n",
    "                \n",
    "                del tokens[index]\n",
    "                text = text + \"\"\n",
    "                continue\n",
    "                \n",
    "            text = text + \" \" + tokens[index]\n",
    "        #text = text + '\\n'"
   ]
  },
  {
   "cell_type": "code",
   "execution_count": 14,
   "metadata": {},
   "outputs": [
    {
     "name": "stdout",
     "output_type": "stream",
     "text": [
      "total chars: 95\n"
     ]
    }
   ],
   "source": [
    "chars = sorted(list(set(text)))\n",
    "print('total chars:', len(chars))\n",
    "char_indices = dict((c, i) for i, c in enumerate(chars))\n",
    "indices_char = dict((i, c) for i, c in enumerate(chars))"
   ]
  },
  {
   "cell_type": "code",
   "execution_count": 17,
   "metadata": {},
   "outputs": [
    {
     "name": "stdout",
     "output_type": "stream",
     "text": [
      "nb sequences: 12555\n"
     ]
    }
   ],
   "source": [
    "# cut the text in semi-redundant sequences of maxlen characters\n",
    "maxlen = 40\n",
    "step = 1\n",
    "sentences = []\n",
    "next_chars = []\n",
    "for i in range(0, len(text) - maxlen, step):\n",
    "    sentences.append(text[i: i + maxlen])\n",
    "    next_chars.append(text[i + maxlen])\n",
    "print('nb sequences:', len(sentences))"
   ]
  },
  {
   "cell_type": "code",
   "execution_count": 23,
   "metadata": {},
   "outputs": [
    {
     "data": {
      "text/plain": [
       "' Packed room for @scott_triglia \\' s talk about circuit breakers at learn about our for deployment , amp ; more https … \" Here in Europe it\\'s less a \" hire-and-fire \" mentality than in the US . \" Iwan Gulenko at Rules of optimisation ) Don\\'t 2 ) Don\\'t . . yet 3 ) Profile of optimisation ) Don\\'t 2 ) Don\\'t . . yet 3 ) Profile Here in Europe it\\'s less a \" hire-and-fire \" mentality than in the US . \" Iwan Gulenko at Great slides from @deshipu . We\\'re learning here how to make robots walk ! Should I optimize my code ? Do you need to optimize your code ? 1 . DON\\'T , 2 . DON\\'T . . . Yet , 3 . PROFILE Making robots walk \" Don\\'t copy big companies recruiting process . Show what * you * have . \" Yes ! Iwan Gulenko at @mark_dedaj I\\'m at Spain . Remember the \" crappy hotel wifi \" topic ? Vai ter Go na Europython . . . good and wise tips Will be Go at @europython Power consumption is a most needed part of Python code optimization gerade in der TT Deutschland angestellt worden , in der Stellung 49 TIL that When a robot has four or more legs is said it has static stability @deshipu @europython channel @bro575 @notpropaganda73 know anyone with 3 + ? Channel that When a robot has four or more legs is said it has static stability @deshipu @europython … some_list [ 2 ] is better ! learn about our for deployment , amp ; more https … Look - the ( minimal ) parts @deshipu says you need to build a robot ! @europython Robot walking talk by @deshipu Lovely slides . YouTube Channel rationale for code reviews , by @d0ugal at YouTube Channel what the most popular snack is . Making robots walk with Python at ! Super happy with the amount of robotics talks this year 😁 Really looking forward to getting to know my favorite IDE better . rationale for code reviews , by @d0ugal at Is there some analytics stats about the ? Countries / age / gender / etc house for an overview on how to build your first cloud application via … question moderator has a question for @vkmc Don\\'t reinvent the wheel house for an overview on how to build your first cloud application via … Planning for failure in distributed systems with circuit breakers @scott_triglia there some analytics stats about the ? Countries / age / gender / etc Pony robots trying to walk rationale for code reviews , by @d0ugal at , day 2 ! @RedHatJobs / is open , @MartaUhlirova @cy_PRO @nmilosev are here for you ! ESP 8266 is approx $ 2.50 UBS micro Python has wifi support @deshipu @europython & amp ; that\\'s a pony w / it ! 😻 😻 Nuestra compa ñera @claudiaguirao estar á toda la semana en la No os perd áis su ponencia el viernes 22 \" Python , Data & amp ; Rock\\'n\\'Roll \" ! Nice intro ( for me at least ) on circuit breakers by @scott_triglia @ \" If possible , ask for the opportunity to go with the guys for a beer . \" How to fail at inclusive informal meeting with candidates . name this composition \" Modern Art with @codesyntax \" . Oh who am I kidding . . . … compa ñera @claudiaguirao estar á toda la semana en la No os perd áis su ponencia el viernes 22 \" Python , … 8266 is approx $ 2.50 UBS micro Python has wifi support @deshipu @europython & amp ; that\\'s a pony w / it ! 😻 😻 … learn about our for deployment , amp ; more https … in @europython should you go outside They should have just used program Deep Thought . Btw great talk by @iwangulenko from gitrecruit . io rationale for code reviews , by @d0ugal at Pytest desde las trincheras at Swag of the day ] The waiting for you at our booth . 😎 😎 Hey @iwangulenko , thanks for the talk ! I guess you should read this about alcohol and inclusivity tho referential processes and loops - consciousness is an emergent property @evildmp @matrixise great talk , thanx . so we can brew beer with python . great talk ! talk by @JiriFolta about @RedHatJobs ! If you are interested in more info stop by our booth ! … Doing the first PyCharm workshop right now ! talk by @JiriFolta about @RedHatJobs ! If you are interested in more info stop by our booth ! … At want to talk about Just grab me , I am social . Particularly interested in discussion with people outside pydata want to talk about Just grab me , I am social . Particularly interested in discussion with peo … Want to see Python byte code ? Set __ltrace__ = None and magic ! Thanks @matrixise @europython house for an overview on how to build your first cloud application via … question moderator has a question for @vkmc things up in Devops \\' world by @godlike64 kicked off 🙌 🙌 things up in Devops \\' world by @godlike64 kicked off 🙌 🙌 Free download all music comedy skits receive celeb gossips and photo galleries on @Skyscanner showed some valuable lessons for what could go wrong when picking the best image latest Fin del periodismo ! to @ar_jorge1987 @linuxchixar @dafnu Swag of the day ] The waiting for you at our booth . 😎 😎 things up in Devops \\' world by @godlike64 kicked off 🙌 🙌 Congrats to @neuralhacker for winning the first of our we have one more to give away 🎉 Why pitch your tent there ? Stop that self pity of yourself when You can change your situation now I optimize my code ? I optimize my code ? @codesyntax Ea zortea dagoen . . . I optimize my code ? pitch your tent there ? Stop that self pity of yourself when You can change your situation now … Ingestong 35 million hotel images with python in the cloud great hands on talk ! for my Circuit Breaker talk are on the europython website or directly at talk by @JiriFolta about @RedHatJobs ! If you are interested in more info stop by our booth ! … to @neuralhacker for winning the first of our we have one more to give away 🎉 … Ea zortea dagoen . . . Time for @hjwp lightning talks . Always an adventure . We laugh , we cry , we hear bad jokes ! Wouldn\\'t have it any other way Watch @JuliaJacklin \\' s new video for \\' Leadlight \\' ahead of her performance for @OtherVoicesLive at @ntoll So basically I can\\'t seem to get started with the microbit using only cli tools . Where can I find you at bother you ? for @hjwp lightning talks . Always an adventure . We laugh , we cry , we hear bad jokes ! Wouldn\\'t have it any other way … for @hjwp lightning talks . Always an adventure . We laugh , we cry , we hear bad jokes ! Wouldn\\'t have it any other way … @rembish winner of our to win a @neuralhacker , visit the Cobe booth to get prize I optimize my code ? 35 million hotel images with python in the cloud great hands on talk ! https … showed some valuable lessons for what could go wrong when picking the best image Birds of a feather flock together at Smug potato head likes virtualenvs about contribution , you can find our here Let us know what you think ! … Getting started with the @cobeio monitoring platform at Lightning talks you missed the memo , here it is hiring @ our booth at Create virtualenv on-the-fly with fades a really nice idea . Manages virtualenvs for a set of dependencies automatically talks name this composition \" Modern Art with @codesyntax \" . Oh who am I kidding . . . … 80 % of the job of a session chair seems to be bin-packing the seating . . . Harry on fire on yeah ! Django Software Foundation code of conduct announcement at talks this evening . Software Foundation code of conduct announcement at talks this evening . Any working links to django\\'s code-of-conduct repo ? typo\\'d and / or otherwise not working Software Foundation code of conduct announcement at talks this evening . Software Foundation code of conduct announcement at talks this evening . food at DOUBLE YOUR MONEY EARN 2 % DAILY INTEREST Invest in CrestFarms and earn 2 % daily started with the @cobeio monitoring platform at of Conduct is available open source Harry ( @hjwp ) on fire at \" hooraaaay ! \" ) You like \" __ltrace__ \" feature in Python 3.6 a3 ? My patch want to talk about Just grab me , I am social . Particularly interested in discussion with peo … Lightning talks at huge crowds every day and are one of my favorite things of the conference . is a really nice idea . Manages virtualenvs for a set of dependencies automatically want to talk about Just grab me , I am social . Particularly interested in discussion with peo … @vkmc and yes , he is here at like \" __ltrace__ \" feature in Python 3.6 a3 ? My patch working links to django\\'s code-of-conduct repo ? typo\\'d and / or otherwise not working e … Code of Conduct is available open source Fun with talks at huge crowds every day and are one of my favorite things of the conference . Value , amp ; a flat or negative growth in 2014 - 2015 Code of Conduct is available open source compa ñera @claudiaguirao estar á toda la semana en la No os perd áis su ponencia el viernes 22 \" Python , … Software Foundation code of conduct announcement at talks this evening . You are welcome ! ^ _ ^ @claudiaguirao ! ! Ya nos informar ás que tal va la experiencia ! ! Ah , up and happy now @phalt_ I optimize my code ? \\' Lightning talks \\' chain of short talk to close up the day . Very enjoyable . Need to use this Format in the next conf I organize oo free doorprize for lightning talk . Quick open fifteen tabs ! Epileptics look away lt ; The latest Puerto Rico Pythons ! to @PythonQnA @zesteinfor @k_bigwheel Thanks from @Ableton and our web devs for this @djangogirls from @Ableton and our web devs for this @djangogirls … Awesome public for the talk in ! Here it\\'s the link public for the talk in ! Here it\\'s the link Code of Conduct is available open source Programming interviews and careers \" important questions to ask the interviewer ! @iwangulenko https … public for the talk in ! Here it\\'s the link If you want to contribute to a great and rewarding . \" @oleiade at … A punto de aparecer en . @helge_e @CuriousTerran Thanks for the shootout giving a talk on it tomorrow at you may follow on streaming ! learn how to transcribe music with See you on Thursday for @aniawsz \\' s talk about it at https … automation at @AbletonDev ? @oleiade at of minions @SaltStack Wow I didn\\'t know Jonathan Slenders was at 😱 😱 😱 😱 made it to the ! Alain Martin talking about the build system used by @AbletonDev RSS want to talk about Just grab me , I am social . Particularly interested in discussion with peo … like \" __ltrace__ \" feature in Python 3.6 a3 ? My patch ? Need a CPython mentor ? Look - Like @matrixise @gvanrossum etc ) Code of Conduct is available open source Fstrings in Python 3.6 are a mess or a miracle ? Attend toolkit ( coming soon ) will help convince your budget owner ! Apps patterns centric Dynamic topology Ephemeral storage Stateless Standards … Juanluuuuuu o / compa ñera @claudiaguirao estar á toda la semana en la No os perd áis su ponencia el viernes 22 \" Python , … simplicity of Shade SDK for architecting cloud apps on Constraint is good vpettorino Code of Conduct is available open source to see Python byte code ? Set __ltrace__ = None and magic ! Thanks @matrixise @europython … great talk , thanx . = None thanks @matrixise interpreter is just a virtual stack machine ; push and pop ! @europython @matrixise … start with CPython just go to @europython pumped about @matrixise @europython talk ! Enjoying lightning talks at Highlights of today . Can\\'t believe Day 2 is nearly over . . @astrojuanlu as the best ambassador of @PyConES in C4P still open . Would you like to join ? \\\\ o / lightning talks at Highlights of today . Can\\'t believe Day 2 is nearly over . lightning talks at Highlights of today . Can\\'t believe Day 2 is nearly over . Hello this is my yearly reminder that lightning talks aren\\'t TV . Can you please respect speakers and moderator and keep quiet ? of a feather flock together at Postgres vs MySQL at Clapping strategy for the in itself a breakthrough . Applause . this is my yearly reminder that lightning talks aren\\'t TV . Can you please respect speakers and moderator and … @micktwomey appreciate this pic . 😁 @astrojuanlu as the best ambassador of @PyConES in C4P still open . Would you like to join ? … Actual steps to switch from MySQL to Postgres July 25 th , Three customers can nab the last remaining tickets to now 👉 Talk of @alevinval 😊 @astrojuanlu as the best ambassador of @PyConES in C4P still open . Would you like to join ? … @astrojuanlu as the best ambassador of @PyConES in C4P still open . Would you like to join ? … \" Exploring our Python Interpreter \" - My slides my talk Exploring our Python Interpreter \" - My slides my talk @astrojuanlu as the best ambassador of @PyConES in C4P still open . Would you like to join ? … Exploring our Python Interpreter \" - My slides my talk Exploring our Python Interpreter \" - My slides my talk Exploring our Python Interpreter \" - My slides my talk WHAT HAPPENED TO THE SQUIRREL ? ? ?'"
      ]
     },
     "execution_count": 23,
     "metadata": {},
     "output_type": "execute_result"
    }
   ],
   "source": [
    "text"
   ]
  },
  {
   "cell_type": "code",
   "execution_count": 27,
   "metadata": {},
   "outputs": [
    {
     "data": {
      "text/plain": [
       "40"
      ]
     },
     "execution_count": 27,
     "metadata": {},
     "output_type": "execute_result"
    }
   ],
   "source": [
    "len(sentences[2])"
   ]
  },
  {
   "cell_type": "code",
   "execution_count": 6,
   "metadata": {},
   "outputs": [
    {
     "name": "stdout",
     "output_type": "stream",
     "text": [
      "Vectorization...\n"
     ]
    }
   ],
   "source": [
    "print('Vectorization...')\n",
    "X = np.zeros((len(sentences), maxlen, len(chars)), dtype=np.bool)\n",
    "y = np.zeros((len(sentences), len(chars)), dtype=np.bool)\n",
    "for i, sentence in enumerate(sentences):\n",
    "    for t, char in enumerate(sentence):\n",
    "        X[i, t, char_indices[char]] = 1\n",
    "    y[i, char_indices[next_chars[i]]] = 1"
   ]
  },
  {
   "cell_type": "code",
   "execution_count": 7,
   "metadata": {},
   "outputs": [
    {
     "name": "stdout",
     "output_type": "stream",
     "text": [
      "Build model...\n"
     ]
    }
   ],
   "source": [
    "# build the model: 2 stacked LSTM\n",
    "print('Build model...')\n",
    "model = Sequential()\n",
    "model.add(LSTM(128, input_shape=(maxlen, len(chars))))\n",
    "model.add(Dense(len(chars)))\n",
    "model.add(Activation('softmax'))\n",
    "\n",
    "optimizer = RMSprop(lr=0.01)\n",
    "model.compile(loss='categorical_crossentropy', optimizer=optimizer)"
   ]
  },
  {
   "cell_type": "code",
   "execution_count": 8,
   "metadata": {
    "collapsed": true
   },
   "outputs": [],
   "source": [
    "def sample(preds, temperature=1.0):\n",
    "    # helper function to sample an index from a probability array\n",
    "    preds = np.asarray(preds).astype('float64')\n",
    "    preds = np.log(preds) / temperature\n",
    "    exp_preds = np.exp(preds)\n",
    "    preds = exp_preds / np.sum(exp_preds)\n",
    "    probas = np.random.multinomial(1, preds, 1)\n",
    "    return np.argmax(probas)"
   ]
  },
  {
   "cell_type": "code",
   "execution_count": 9,
   "metadata": {
    "scrolled": false
   },
   "outputs": [
    {
     "name": "stdout",
     "output_type": "stream",
     "text": [
      "\n",
      "--------------------------------------------------\n",
      "Iteration 1\n",
      "Epoch 1/2\n",
      "12755/12755 [==============================] - 54s - loss: 3.2208    \n",
      "Epoch 2/2\n",
      "12755/12755 [==============================] - 58s - loss: 2.8223    \n",
      "\n",
      "----- diversity: 0.2\n",
      "----- Generating with seed: \" Always an adventure . We laugh , we cry\"\n",
      "\n",
      "Generated\n",
      " Always an adventure . We laugh , we cry an in in an an an a\n",
      "\n",
      "----- diversity: 0.5\n",
      "----- Generating with seed: \" Always an adventure . We laugh , we cry\"\n",
      "\n",
      "Generated\n",
      " Always an adventure . We laugh , we cry apo aning ator ang \n",
      "\n",
      "----- diversity: 1.0\n",
      "----- Generating with seed: \" Always an adventure . We laugh , we cry\"\n",
      "\n",
      "Generated\n",
      " Always an adventure . We laugh , we cry ?ou ? f ovopv 🙌ks @\n",
      "\n",
      "----- diversity: 1.2\n",
      "----- Generating with seed: \" Always an adventure . We laugh , we cry\"\n",
      "\n",
      "Generated\n",
      " Always an adventure . We laugh , we cry y.asd on 😊s opAdiny\n",
      "\n",
      "--------------------------------------------------\n",
      "Iteration 2\n",
      "Epoch 1/2\n",
      "12755/12755 [==============================] - 69s - loss: 2.6069    \n",
      "Epoch 2/2\n",
      "12755/12755 [==============================] - 59s - loss: 2.4362    \n",
      "\n",
      "----- diversity: 0.2\n",
      "----- Generating with seed: \"e it's less a \" hire-and-fire \" mentalit\"\n",
      "\n",
      "Generated\n",
      "e it's less a \" hire-and-fire \" mentality for cede the talk \n",
      "\n",
      "----- diversity: 0.5\n",
      "----- Generating with seed: \"e it's less a \" hire-and-fire \" mentalit\"\n",
      "\n",
      "Generated\n",
      "e it's less a \" hire-and-fire \" mentalititing . . .\n",
      "- at apl\n",
      "\n",
      "----- diversity: 1.0\n",
      "----- Generating with seed: \"e it's less a \" hire-and-fire \" mentalit\"\n",
      "\n",
      "Generated\n",
      "e it's less a \" hire-and-fire \" mentalitaplython @e 5ustions\n",
      "\n",
      "----- diversity: 1.2\n",
      "----- Generating with seed: \"e it's less a \" hire-and-fire \" mentalit\"\n",
      "\n",
      "Generated\n",
      "e it's less a \" hire-and-fire \" mentalitaten\" ; Fondwing atf\n",
      "\n",
      "--------------------------------------------------\n",
      "Iteration 3\n",
      "Epoch 1/2\n",
      "12755/12755 [==============================] - 69s - loss: 2.2668    \n",
      "Epoch 2/2\n",
      "12755/12755 [==============================] - 59s - loss: 2.0938    \n",
      "\n",
      "----- diversity: 0.2\n",
      "----- Generating with seed: \" Conduct is available open source\n",
      " compa\"\n",
      "\n",
      "Generated\n",
      " Conduct is available open source\n",
      " compation . . . . . . . .\n",
      "\n",
      "----- diversity: 0.5\n",
      "----- Generating with seed: \" Conduct is available open source\n",
      " compa\"\n",
      "\n",
      "Generated\n",
      " Conduct is available open source\n",
      " compat ou mo the talk at \n",
      "\n",
      "----- diversity: 1.0\n",
      "----- Generating with seed: \" Conduct is available open source\n",
      " compa\"\n",
      "\n",
      "Generated\n",
      " Conduct is available open source\n",
      " compa an madsuure in sere\n",
      "\n",
      "----- diversity: 1.2\n",
      "----- Generating with seed: \" Conduct is available open source\n",
      " compa\"\n",
      "\n",
      "Generated\n",
      " Conduct is available open source\n",
      " compante of Von't Iwthtn'\n",
      "\n",
      "--------------------------------------------------\n",
      "Iteration 4\n",
      "Epoch 1/2\n",
      "12755/12755 [==============================] - 63s - loss: 1.9174    \n",
      "Epoch 2/2\n",
      "12755/12755 [==============================] - 60s - loss: 1.7521    \n",
      "\n",
      "----- diversity: 0.2\n",
      "----- Generating with seed: \"ops ' world by @godlike64 kicked off 🙌 🙌\"\n",
      "\n",
      "Generated\n",
      "ops ' world by @godlike64 kicked off 🙌 🙌\n",
      " Candicu stap on of\n",
      "\n",
      "----- diversity: 0.5\n",
      "----- Generating with seed: \"ops ' world by @godlike64 kicked off 🙌 🙌\"\n",
      "\n",
      "Generated\n",
      "ops ' world by @godlike64 kicked off 🙌 🙌\n",
      " Cand I y @chings f\n",
      "\n",
      "----- diversity: 1.0\n",
      "----- Generating with seed: \"ops ' world by @godlike64 kicked off 🙌 🙌\"\n",
      "\n",
      "Generated\n",
      "ops ' world by @godlike64 kicked off 🙌 🙌\n",
      " deponging talks th\n",
      "\n",
      "----- diversity: 1.2\n",
      "----- Generating with seed: \"ops ' world by @godlike64 kicked off 🙌 🙌\"\n",
      "\n",
      "Generated\n",
      "ops ' world by @godlike64 kicked off 🙌 🙌\n",
      "5Eenlige onferseef \n"
     ]
    }
   ],
   "source": [
    "# train the model, output generated text after each iteration\n",
    "for iteration in range(1, 5):\n",
    "    print()\n",
    "    print('-' * 50)\n",
    "    print('Iteration', iteration)\n",
    "    model.fit(X, y, batch_size=128, nb_epoch=2)\n",
    "\n",
    "    start_index = random.randint(0, len(text) - maxlen - 1)\n",
    "\n",
    "    for diversity in [0.2, 0.5, 1.0, 1.2]:\n",
    "        print()\n",
    "        print('----- diversity:', diversity)\n",
    "\n",
    "        generated = ''\n",
    "        sentence = text[start_index: start_index + maxlen]\n",
    "        generated += sentence\n",
    "        print('----- Generating with seed: \"' + sentence + '\"')\n",
    "        print('\\nGenerated')\n",
    "        sys.stdout.write(generated)\n",
    "\n",
    "        for i in range(20):\n",
    "            x = np.zeros((1, maxlen, len(chars)))\n",
    "            for t, char in enumerate(sentence):\n",
    "                x[0, t, char_indices[char]] = 1.\n",
    "\n",
    "            preds = model.predict(x, verbose=0)[0]\n",
    "            next_index = sample(preds, diversity)\n",
    "            next_char = indices_char[next_index]\n",
    "\n",
    "            generated += next_char\n",
    "            sentence = sentence[1:] + next_char\n",
    "\n",
    "            sys.stdout.write(next_char)\n",
    "            sys.stdout.flush()\n",
    "        print()"
   ]
  },
  {
   "cell_type": "code",
   "execution_count": null,
   "metadata": {
    "collapsed": true
   },
   "outputs": [],
   "source": []
  },
  {
   "cell_type": "code",
   "execution_count": null,
   "metadata": {
    "collapsed": true
   },
   "outputs": [],
   "source": []
  }
 ],
 "metadata": {
  "kernelspec": {
   "display_name": "Python 3",
   "language": "python",
   "name": "python3"
  },
  "language_info": {
   "codemirror_mode": {
    "name": "ipython",
    "version": 3
   },
   "file_extension": ".py",
   "mimetype": "text/x-python",
   "name": "python",
   "nbconvert_exporter": "python",
   "pygments_lexer": "ipython3",
   "version": "3.6.3"
  }
 },
 "nbformat": 4,
 "nbformat_minor": 1
}
